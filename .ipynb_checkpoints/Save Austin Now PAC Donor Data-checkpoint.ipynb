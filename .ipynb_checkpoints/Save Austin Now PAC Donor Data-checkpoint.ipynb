{
 "cells": [
  {
   "cell_type": "code",
   "execution_count": 4,
   "id": "f500ff89",
   "metadata": {},
   "outputs": [],
   "source": [
    "# import requirements\n",
    "\n",
    "# pandas for processing data\n",
    "import pandas as pd\n",
    "\n",
    "# json to manage the text of the API request\n",
    "import json\n",
    "\n",
    "# requests to make the API request\n",
    "import requests"
   ]
  },
  {
   "cell_type": "code",
   "execution_count": 5,
   "id": "81a728f3",
   "metadata": {
    "scrolled": true
   },
   "outputs": [],
   "source": [
    "# URL contains recipient prewritten into URL\n",
    "url = \"https://data.austintexas.gov/resource/3kfv-biw6.json?recipient=Save Austin Now PAC&$limit=2000\"\n",
    "payload='limit=2000'\n",
    "headers = {\n",
    "  'Content-Type': 'application/x-www-form-urlencoded'\n",
    "}\n",
    "\n",
    "# make the request\n",
    "response = requests.request(\"GET\", url, headers=headers, data=payload)\n",
    "\n",
    "# convert text into json data\n",
    "results = json.loads(response.text)\n",
    "\n",
    "# normalize json to be one-dimentional for pandas\n",
    "df = pd.json_normalize(results)\n",
    "\n",
    "# convert column 'contribution_amount' into a double data type\n",
    "df['contribution_amount'] = df['contribution_amount'].apply(pd.to_numeric)"
   ]
  },
  {
   "cell_type": "code",
   "execution_count": 3,
   "id": "c330522b",
   "metadata": {
    "scrolled": true
   },
   "outputs": [],
   "source": [
    "# sort the data by contribution amount and in descending order\n",
    "sorted_df = df.sort_values(by=['contribution_amount'], ascending=False)\n",
    "\n",
    "# collect the top 500 donors\n",
    "sorted_df = sorted_df[0:500]\n",
    "\n"
   ]
  },
  {
   "cell_type": "code",
   "execution_count": 35,
   "id": "1b7ad8e2",
   "metadata": {},
   "outputs": [],
   "source": [
    "# the two commands below will convert the pandas dataframe into a csv file\n",
    "# combine two columns to make a single addresses column\n",
    "addresses = sorted_df['donor_address']+ \", \" + sorted_df['city_state_zip']\n",
    "#compression_opts = dict(method='zip', archive_name='out.csv')  \n",
    "#addresses.to_csv('out.zip', index=False,compression=compression_opts) "
   ]
  },
  {
   "cell_type": "markdown",
   "id": "b10536df",
   "metadata": {},
   "source": [
    "## When we collect the CSV Data and plot it on Google maps, we see the following!\n",
    "\n",
    "![title](I35MapPhoto.png)"
   ]
  }
 ],
 "metadata": {
  "kernelspec": {
   "display_name": "Python 3",
   "language": "python",
   "name": "python3"
  },
  "language_info": {
   "codemirror_mode": {
    "name": "ipython",
    "version": 3
   },
   "file_extension": ".py",
   "mimetype": "text/x-python",
   "name": "python",
   "nbconvert_exporter": "python",
   "pygments_lexer": "ipython3",
   "version": "3.9.5"
  }
 },
 "nbformat": 4,
 "nbformat_minor": 5
}
