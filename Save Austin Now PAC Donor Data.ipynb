{
 "cells": [
  {
   "cell_type": "markdown",
   "id": "7c2436aa",
   "metadata": {},
   "source": [
    " # Save Austin Now PAC Donor Data "
   ]
  },
  {
   "cell_type": "markdown",
   "id": "b4206954",
   "metadata": {},
   "source": [
    "### Import packages"
   ]
  },
  {
   "cell_type": "code",
   "execution_count": 16,
   "id": "f500ff89",
   "metadata": {},
   "outputs": [],
   "source": [
    "# import requirements\n",
    "\n",
    "# pandas for processing data\n",
    "import pandas\n",
    "\n",
    "# json to manage the text of the API request\n",
    "import json\n",
    "\n",
    "# requests to make the API request\n",
    "import requests"
   ]
  },
  {
   "cell_type": "markdown",
   "id": "28ec725c",
   "metadata": {},
   "source": [
    "### Fetch data from API and convert it into a pandas DataFrame"
   ]
  },
  {
   "cell_type": "code",
   "execution_count": 17,
   "id": "81a728f3",
   "metadata": {
    "scrolled": true
   },
   "outputs": [],
   "source": [
    "# URL contains recipient \"Save Austin Now\" prewritten into URL\n",
    "url = \"https://data.austintexas.gov/resource/3kfv-biw6.json?recipient=Save Austin Now PAC&$limit=2000\"\n",
    "payload='limit=2000'\n",
    "headers = {\n",
    "  'Content-Type': 'application/x-www-form-urlencoded'\n",
    "}\n",
    "\n",
    "# make the request\n",
    "response = requests.request(\"GET\", url, headers=headers, data=payload)\n",
    "\n",
    "# convert text into json data\n",
    "results = json.loads(response.text)\n",
    "\n",
    "# normalize json to be one-dimensional for pandas\n",
    "df = pandas.json_normalize(results)\n",
    "\n",
    "# convert column 'contribution_amount' into a double data type\n",
    "df['contribution_amount'] = df['contribution_amount'].apply(pandas.to_numeric)"
   ]
  },
  {
   "cell_type": "markdown",
   "id": "99c77b91",
   "metadata": {},
   "source": [
    "### Sort the dataframe by contribution amount and remove duplicate donors"
   ]
  },
  {
   "cell_type": "code",
   "execution_count": 18,
   "id": "c330522b",
   "metadata": {
    "scrolled": true
   },
   "outputs": [],
   "source": [
    "# sort the data by contribution amount and in descending order\n",
    "sorted_df = df.sort_values(by=['contribution_amount'], ascending=False)\n",
    "\n",
    "# remove all duplicate donors\n",
    "sorted_df = sorted_df.drop_duplicates(subset=['donor'])"
   ]
  },
  {
   "cell_type": "markdown",
   "id": "b7993f2c",
   "metadata": {},
   "source": [
    "### Save the addresses into a csv file"
   ]
  },
  {
   "cell_type": "code",
   "execution_count": 19,
   "id": "1b7ad8e2",
   "metadata": {},
   "outputs": [],
   "source": [
    "# combine two columns to make a single addresses column. \n",
    "addresses = sorted_df['donor_address']+ \", \" + sorted_df['city_state_zip']\n",
    "\n",
    "# the two commands below will convert the pandas dataframe into a csv file \n",
    "addresses.to_csv('./csv/SaveAustinNow.csv', index=False) "
   ]
  },
  {
   "cell_type": "markdown",
   "id": "b10536df",
   "metadata": {},
   "source": [
    "### When we collect the CSV Data and plot it on Google maps, we see the following:\n",
    "\n",
    "![title](./images/SaveAustinNow.png)"
   ]
  },
  {
   "cell_type": "markdown",
   "id": "cdd385c1",
   "metadata": {},
   "source": [
    "###  Both Save Austin Now and Homes Not Handcuffs \n",
    "\n",
    "![title](./images/Hybrid.png)\n",
    "## To see an interactive map [click here](https://www.google.com/maps/d/u/0/edit?mid=1D2lB1in-OKe2dgziq14eFsbO3dzKsGk3&usp=sharing)"
   ]
  }
 ],
 "metadata": {
  "kernelspec": {
   "display_name": "Python 3",
   "language": "python",
   "name": "python3"
  },
  "language_info": {
   "codemirror_mode": {
    "name": "ipython",
    "version": 3
   },
   "file_extension": ".py",
   "mimetype": "text/x-python",
   "name": "python",
   "nbconvert_exporter": "python",
   "pygments_lexer": "ipython3",
   "version": "3.9.5"
  }
 },
 "nbformat": 4,
 "nbformat_minor": 5
}
